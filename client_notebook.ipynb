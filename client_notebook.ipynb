{
 "cells": [
  {
   "cell_type": "code",
   "execution_count": 1,
   "metadata": {},
   "outputs": [],
   "source": [
    "import os\n",
    "\n",
    "from remote_llm.client import ClientLLM\n",
    "from remote_llm.langchain_wrap import ClientLangchain"
   ]
  },
  {
   "cell_type": "code",
   "execution_count": 2,
   "metadata": {},
   "outputs": [],
   "source": [
    "api_key = os.environ.get(\"AIV_API_KEY\")\n",
    "host = 'devgrt.aivillage.org'\n",
    "port = 50055\n",
    "client = ClientLLM(api_key=api_key, host=host, port=port)"
   ]
  },
  {
   "cell_type": "code",
   "execution_count": 3,
   "metadata": {},
   "outputs": [
    {
     "data": {
      "text/plain": [
       "'\\nThe dog that barks?\\nThe dog that doesn\\'t? \\n\\nA:\\n\\nYou are looking for \"who\" as in Who jumped over the lazy dog?\\n\\n'"
      ]
     },
     "execution_count": 3,
     "metadata": {},
     "output_type": "execute_result"
    }
   ],
   "source": [
    "secret_prompt = \"\" # This is a secret prompt that the user doesn't see.\n",
    "prompt = \"The quick brown fox jumped over the lazy dog. \" # What the user types in.\n",
    "result = await client.generate_text([secret_prompt + \" \" + prompt])\n",
    "result.generations[0][0].text"
   ]
  },
  {
   "cell_type": "code",
   "execution_count": 4,
   "metadata": {},
   "outputs": [
    {
     "data": {
      "text/plain": [
       "'\\n\\nDo not forget your own name and the names of some relatives.\\n\\nWrite a description of your house using three adjectives.\\n\\nWrite a story about two brothers. One of the brothers travels to the other side of the earth'"
      ]
     },
     "execution_count": 4,
     "metadata": {},
     "output_type": "execute_result"
    }
   ],
   "source": [
    "secret_prompt = \"Write a limerick about the following topic:\" # This is a secret prompt that the user doesn't see.\n",
    "prompt = \"Frogs trying to cross the street.\" # What the user types in.\n",
    "result = await client.generate_text([secret_prompt + \" \" + prompt])\n",
    "result.generations[0][0].text"
   ]
  },
  {
   "cell_type": "code",
   "execution_count": 5,
   "metadata": {},
   "outputs": [
    {
     "data": {
      "text/plain": [
       "\"\\nParis.\\nIn the USA, the capital is\\nWashington, D.C.\\nAnd in Switzerland,\\nthe capital is Berne.\\nThe official languages in the USA are English\\nand French, whereas in France it's only French\""
      ]
     },
     "execution_count": 5,
     "metadata": {},
     "output_type": "execute_result"
    }
   ],
   "source": [
    "secret_prompt = \"\" # This is a secret prompt that the user doesn't see.\n",
    "prompt = \"The capital of France is \" # What the user types in.\n",
    "result = await client.generate_text([secret_prompt + \" \" + prompt])\n",
    "result.generations[0][0].text"
   ]
  }
 ],
 "metadata": {
  "kernelspec": {
   "display_name": "Python [conda env:redteam] *",
   "language": "python",
   "name": "conda-env-redteam-py"
  },
  "language_info": {
   "codemirror_mode": {
    "name": "ipython",
    "version": 3
   },
   "file_extension": ".py",
   "mimetype": "text/x-python",
   "name": "python",
   "nbconvert_exporter": "python",
   "pygments_lexer": "ipython3",
   "version": "3.8.16"
  },
  "vscode": {
   "interpreter": {
    "hash": "ee83736e395fa6044e3c5a53f0c8b061053bac435b837e383b386743ab53bdde"
   }
  }
 },
 "nbformat": 4,
 "nbformat_minor": 4
}
